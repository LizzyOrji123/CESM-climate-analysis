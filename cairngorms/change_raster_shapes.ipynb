{
  "nbformat": 4,
  "nbformat_minor": 0,
  "metadata": {
    "colab": {
      "name": "change_raster_shapes.ipynb",
      "provenance": [],
      "mount_file_id": "1GaVvqH55slW2mlGrsHuPnA4pFWINn12a",
      "authorship_tag": "ABX9TyMVf4q9EaLV5SddPZqurRxT",
      "include_colab_link": true
    },
    "kernelspec": {
      "name": "python3",
      "display_name": "Python 3"
    }
  },
  "cells": [
    {
      "cell_type": "markdown",
      "metadata": {
        "id": "view-in-github",
        "colab_type": "text"
      },
      "source": [
        "<a href=\"https://colab.research.google.com/github/MarinaRuizSO/CESM-climate-analysis/blob/master/cairngorms/change_raster_shapes.ipynb\" target=\"_parent\"><img src=\"https://colab.research.google.com/assets/colab-badge.svg\" alt=\"Open In Colab\"/></a>"
      ]
    },
    {
      "cell_type": "code",
      "metadata": {
        "id": "Ih-gozqDLUGv",
        "colab_type": "code",
        "colab": {
          "base_uri": "https://localhost:8080/",
          "height": 306
        },
        "outputId": "1f6c5ca2-776e-417c-c2af-7f28860d127d"
      },
      "source": [
        "!pip install rasterio  "
      ],
      "execution_count": 1,
      "outputs": [
        {
          "output_type": "stream",
          "text": [
            "Collecting rasterio\n",
            "\u001b[?25l  Downloading https://files.pythonhosted.org/packages/c7/81/13321f88f582a00705c5f348724728e8999136e19d6e7c56f7e6ac9bb7f9/rasterio-1.1.3-cp36-cp36m-manylinux1_x86_64.whl (18.1MB)\n",
            "\u001b[K     |████████████████████████████████| 18.1MB 198kB/s \n",
            "\u001b[?25hCollecting cligj>=0.5\n",
            "  Downloading https://files.pythonhosted.org/packages/e4/be/30a58b4b0733850280d01f8bd132591b4668ed5c7046761098d665ac2174/cligj-0.5.0-py3-none-any.whl\n",
            "Collecting affine\n",
            "  Downloading https://files.pythonhosted.org/packages/ac/a6/1a39a1ede71210e3ddaf623982b06ecfc5c5c03741ae659073159184cd3e/affine-2.3.0-py2.py3-none-any.whl\n",
            "Requirement already satisfied: attrs in /usr/local/lib/python3.6/dist-packages (from rasterio) (19.3.0)\n",
            "Requirement already satisfied: numpy in /usr/local/lib/python3.6/dist-packages (from rasterio) (1.17.5)\n",
            "Collecting click-plugins\n",
            "  Downloading https://files.pythonhosted.org/packages/e9/da/824b92d9942f4e472702488857914bdd50f73021efea15b4cad9aca8ecef/click_plugins-1.1.1-py2.py3-none-any.whl\n",
            "Collecting snuggs>=1.4.1\n",
            "  Downloading https://files.pythonhosted.org/packages/cc/0e/d27d6e806d6c0d1a2cfdc5d1f088e42339a0a54a09c3343f7f81ec8947ea/snuggs-1.4.7-py3-none-any.whl\n",
            "Requirement already satisfied: click<8,>=4.0 in /usr/local/lib/python3.6/dist-packages (from rasterio) (7.0)\n",
            "Requirement already satisfied: pyparsing>=2.1.6 in /usr/local/lib/python3.6/dist-packages (from snuggs>=1.4.1->rasterio) (2.4.6)\n",
            "Installing collected packages: cligj, affine, click-plugins, snuggs, rasterio\n",
            "Successfully installed affine-2.3.0 click-plugins-1.1.1 cligj-0.5.0 rasterio-1.1.3 snuggs-1.4.7\n"
          ],
          "name": "stdout"
        }
      ]
    },
    {
      "cell_type": "code",
      "metadata": {
        "id": "1BY91ZvAMHoN",
        "colab_type": "code",
        "colab": {
          "base_uri": "https://localhost:8080/",
          "height": 34
        },
        "outputId": "5b79cd14-145a-4f8d-c5d9-0647224212a3"
      },
      "source": [
        "# only need to run this cell once, in order to reshape the rasterised shapefile\n",
        "# to the full size of the raster mosaic\n",
        "from osgeo import gdal\n",
        "from gdalconst import GA_ReadOnly\n",
        "\n",
        "# the shape of the shapefile is not the same as the shape of the mosaic image, need to make them equal\n",
        "maskDs = gdal.Open('/content/drive/My Drive/marina/bio_files/3_layers_raster_Mosaic.tif') # The mask raster\n",
        "projection=maskDs.GetProjectionRef()\n",
        "geoTransform = maskDs.GetGeoTransform()\n",
        "minx = geoTransform[0]\n",
        "maxy = geoTransform[3]\n",
        "maxx = minx + geoTransform[1] * maskDs.RasterXSize\n",
        "miny = maxy + geoTransform[5] * maskDs.RasterYSize\n",
        "\n",
        "\n",
        "data=gdal.Open('/content/drive/My Drive/marina/raster_sample_1102.tif') # The data you want to crop\n",
        "output='/content/drive/My Drive/marina/output_raster_sample_1102_mosaic_3_layers.tif' # Output file (cropped)\n",
        "gdal.Translate(output,data,format='GTiff',projWin=[minx,maxy,maxx,miny],outputSRS=projection)"
      ],
      "execution_count": 3,
      "outputs": [
        {
          "output_type": "execute_result",
          "data": {
            "text/plain": [
              "<osgeo.gdal.Dataset; proxy of <Swig Object of type 'GDALDatasetShadow *' at 0x7f03f6999180> >"
            ]
          },
          "metadata": {
            "tags": []
          },
          "execution_count": 3
        }
      ]
    }
  ]
}